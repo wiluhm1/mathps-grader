{
 "cells": [
  {
   "cell_type": "code",
   "execution_count": 1,
   "metadata": {},
   "outputs": [],
   "source": [
    "from latex2sympy2 import latex2sympy, latex2latex\n",
    "import re"
   ]
  },
  {
   "cell_type": "code",
   "execution_count": 2,
   "metadata": {},
   "outputs": [
    {
     "name": "stdout",
     "output_type": "stream",
     "text": [
      "Derivative(x**2 + y, x)\n"
     ]
    }
   ],
   "source": [
    "tex = r\"\\frac{\\partial}{\\partial x}(x^2+y)\"\n",
    "print(latex2sympy(tex))"
   ]
  },
  {
   "cell_type": "code",
   "execution_count": 3,
   "metadata": {},
   "outputs": [
    {
     "name": "stdout",
     "output_type": "stream",
     "text": [
      "18\n",
      "(h**3 + 6*h**2 + 12*h - 8 + 8)/h\n",
      "Solution 18. $\\frac{(2+h)^{3}-8}{h}$ is not our step.\n",
      "(h**3 + 6*h**2 + 12*h - 8 + 8)/h\n",
      "(h**3 + 6*h**2 + 12*h - 8 + 8)/h\n",
      "We found our step yay! It's: solution number \\frac{(h)^{3}+6h^{2}+12h+8-8}{h}.\n",
      "Final solution is correct\n",
      "[True, True]\n"
     ]
    }
   ],
   "source": [
    "expresses = {r'18. $\\lim _{h \\rightarrow 0} \\frac{(2+h)^{3}-8}{h}$': (r'\\frac{h^3+6h^2+12h+8-8}{h}', r'12')}\n",
    "#form should be [problem statement]: ([intermediate expression], [solution])\n",
    "\n",
    "def remove_limits_func(expression):\n",
    "    # Regular expression to match \\lim and remove it for comparison\n",
    "    return re.sub(r'\\\\lim _\\{.*?\\} ', '', expression)\n",
    "\n",
    "def in_express(sol): # in form [expression1, expression2, ...]\n",
    "    grade = [False, False]\n",
    "    for steps in sol:\n",
    "        step = remove_limits_func(steps)\n",
    "        print(latex2sympy(step))\n",
    "        print(latex2sympy(expresses[r'18. $\\lim _{h \\rightarrow 0} \\frac{(2+h)^{3}-8}{h}$'][0]))\n",
    "        if latex2sympy(step) == latex2sympy(expresses[r'18. $\\lim _{h \\rightarrow 0} \\frac{(2+h)^{3}-8}{h}$'][0]):\n",
    "            grade[0] = True\n",
    "            print('We found our step yay! It\\'s: solution number ' + str(step) + '.')\n",
    "            break\n",
    "        else:\n",
    "            print('Solution ' + str(step) + ' is not our step.')\n",
    "    if latex2sympy(sol[-1]) == latex2sympy(expresses[r'18. $\\lim _{h \\rightarrow 0} \\frac{(2+h)^{3}-8}{h}$'][1]):\n",
    "        print('Final solution is correct')\n",
    "        grade[1] = True\n",
    "    else:\n",
    "        print('YOU\\'RE WRONG DON\\'T EVER DO MATH AGAIN IN YOUR LIFE')\n",
    "    return(grade)\n",
    "\n",
    "\n",
    "student_solution = [r'18. $\\lim _{h \\rightarrow 0} \\frac{(2+h)^{3}-8}{h}$', r'\\lim _{h \\rightarrow 0} \\frac{(h)^{3}+6h^{2}+12h+8-8}{h}', r'\\lim _{h \\rightarrow 0} h^2+6h+12', r'12']\n",
    "print(in_express(student_solution))\n",
    "\n"
   ]
  },
  {
   "cell_type": "code",
   "execution_count": 7,
   "metadata": {},
   "outputs": [
    {
     "name": "stdout",
     "output_type": "stream",
     "text": [
      "18\n",
      "(h**3 + 6*h**2 + 12*h - 8 + 8)/h\n",
      "Solution 18. $\\frac{(2+h)^{3}-8}{h}$ is not our step.\n",
      "(h**3 + 6*h**2 + 12*h - 8 + 8)/h\n",
      "(h**3 + 6*h**2 + 12*h - 8 + 8)/h\n",
      "We found our step yay! It's: solution number \\frac{(h)^{3}+6h^{2}+12h+8-8}{h}.\n",
      "Final solution is correct\n",
      "[True, True]\n"
     ]
    }
   ],
   "source": [
    "from latex2sympy2 import latex2sympy, latex2latex\n",
    "import re\n",
    "\n",
    "expresses = {r'18. $\\lim _{h \\rightarrow 0} \\frac{(2+h)^{3}-8}{h}$': (r'\\frac{h^3+6h^2+12h+8-8}{h}', r'12')}\n",
    "#form should be [problem statement]: ([intermediate expression], [solution])\n",
    "\n",
    "remove_limits = True # controls if limits should be ignored in comparing solution to intermediate step\n",
    "\n",
    "## TODO: additional forms of solutions, additional things that should be ignored in intermediate step\n",
    "\n",
    "def limit_remover(expression):\n",
    "    # Regular expression to match \\lim and remove it for comparison\n",
    "    return re.sub(r'\\\\lim _\\{.*?\\} ', '', expression)\n",
    "\n",
    "def in_express(problem, sol): #problem statement, solution\n",
    "    grade = [False, False]\n",
    "    intermediate_step = expresses[problem][0]\n",
    "    final_solution = expresses[problem][1]\n",
    "    for steps in sol:\n",
    "        if remove_limits == True:\n",
    "            steps = limit_remover(steps)\n",
    "            intermediate_step = limit_remover(intermediate_step)\n",
    "        print(latex2sympy(steps))\n",
    "        print(latex2sympy(intermediate_step))\n",
    "        if latex2sympy(steps) == latex2sympy(intermediate_step):\n",
    "            #^ does our step match the intermediate step that we are looking for\n",
    "            grade[0] = True\n",
    "            print('We found our step yay! It\\'s: solution number ' + str(steps) + '.')\n",
    "            break #intermediate step is found, no need to try to find it again\n",
    "        else:\n",
    "            print('Solution ' + str(steps) + ' is not our step.')\n",
    "    if latex2sympy(sol[-1]) == latex2sympy(final_solution): # TODO: very possible that final solution isn't just an integer and may need to do the same rules as the intermediate step (remove limits, etc.)\n",
    "        print('Final solution is correct')\n",
    "        grade[1] = True\n",
    "    else:\n",
    "        print('YOU\\'RE WRONG DON\\'T EVER DO MATH AGAIN IN YOUR LIFE')\n",
    "    return(grade)\n",
    "\n",
    "\n",
    "student_solution = [r'18. $\\lim _{h \\rightarrow 0} \\frac{(2+h)^{3}-8}{h}$', r'\\lim _{h \\rightarrow 0} \\frac{(h)^{3}+6h^{2}+12h+8-8}{h}', r'\\lim _{h \\rightarrow 0} h^2+6h+12', r'12']\n",
    "#student solution should be in form [problem statement, step_1, step_2,...] -- each step is an expression\n",
    "print(in_express(next(iter(expresses)), student_solution))"
   ]
  },
  {
   "cell_type": "code",
   "execution_count": 8,
   "metadata": {},
   "outputs": [
    {
     "name": "stdout",
     "output_type": "stream",
     "text": [
      "['6(x', '4)', '6x', '24']\n"
     ]
    },
    {
     "data": {
      "text/plain": [
       "\"\\ndef find_student_solution(problem_statement, student_input):\\n    steps = expression_extractor(student_input)\\n    for step_num, step in enumerate(steps):\\n        steps[step_num] = step.split('=')\""
      ]
     },
     "execution_count": 8,
     "metadata": {},
     "output_type": "execute_result"
    }
   ],
   "source": [
    "import re\n",
    "\n",
    "def extract_expressions(input_string):\n",
    "    \"\"\"\n",
    "    Extracts all expressions between $ or $$ symbols and further splits each step into individual expressions.\n",
    "    \n",
    "    :param input_string: The string containing steps between $ or $$ signs\n",
    "    :return: A list of individual expressions extracted from each step\n",
    "    \"\"\"\n",
    "    # Regular expression to match content between either $...$ or $$...$$\n",
    "    step_pattern = re.compile(r'\\$(.*?)\\$|\\$\\$(.*?)\\$\\$')\n",
    "    \n",
    "    # Find all steps between $ or $$ signs\n",
    "    steps = step_pattern.findall(input_string)\n",
    "    \n",
    "    # Flatten the list of tuples returned by findall (since it gives two groups, one for $ and another for $$)\n",
    "    steps = [item for group in steps for item in group if item]\n",
    "\n",
    "    # Split each step by common expression separators like '=', '+', '-', '*', and '/'\n",
    "    expressions = []\n",
    "    for step in steps:\n",
    "        expressions.extend(re.split(r'[=+\\-*/]', step))\n",
    "    \n",
    "    # Remove any extra spaces and empty strings\n",
    "    return [expr.strip() for expr in expressions if expr.strip()]\n",
    "\n",
    "# Example usage\n",
    "input_string = \"Here is a step: $6(x+4)=6x+24$ and another one $$x^2 - 4 = 0$$.\"\n",
    "extracted_expressions = extract_expressions(input_string)\n",
    "print(extracted_expressions)\n",
    "\n",
    "'''\n",
    "def find_student_solution(problem_statement, student_input):\n",
    "    steps = expression_extractor(student_input)\n",
    "    for step_num, step in enumerate(steps):\n",
    "        steps[step_num] = step.split('=')'''\n",
    "        \n"
   ]
  },
  {
   "cell_type": "code",
   "execution_count": 9,
   "metadata": {},
   "outputs": [
    {
     "ename": "error",
     "evalue": "look-behind requires fixed-width pattern",
     "output_type": "error",
     "traceback": [
      "\u001b[0;31m---------------------------------------------------------------------------\u001b[0m",
      "\u001b[0;31merror\u001b[0m                                     Traceback (most recent call last)",
      "Cell \u001b[0;32mIn[9], line 32\u001b[0m\n\u001b[1;32m     30\u001b[0m \u001b[38;5;66;03m# Example usage\u001b[39;00m\n\u001b[1;32m     31\u001b[0m input_string \u001b[38;5;241m=\u001b[39m \u001b[38;5;124m\"\u001b[39m\u001b[38;5;124mHere is a step: $6(x+4)=6x+24$ and another one $$x^2 - 4 = 0$$.\u001b[39m\u001b[38;5;124m\"\u001b[39m\n\u001b[0;32m---> 32\u001b[0m extracted_expressions \u001b[38;5;241m=\u001b[39m \u001b[43mextract_expressions\u001b[49m\u001b[43m(\u001b[49m\u001b[43minput_string\u001b[49m\u001b[43m)\u001b[49m\n\u001b[1;32m     33\u001b[0m \u001b[38;5;28mprint\u001b[39m(extracted_expressions)\n",
      "Cell \u001b[0;32mIn[9], line 24\u001b[0m, in \u001b[0;36mextract_expressions\u001b[0;34m(input_string)\u001b[0m\n\u001b[1;32m     21\u001b[0m expressions \u001b[38;5;241m=\u001b[39m []\n\u001b[1;32m     22\u001b[0m \u001b[38;5;28;01mfor\u001b[39;00m step \u001b[38;5;129;01min\u001b[39;00m steps:\n\u001b[1;32m     23\u001b[0m     \u001b[38;5;66;03m# Match expressions separated by '=' while ignoring contents inside parentheses\u001b[39;00m\n\u001b[0;32m---> 24\u001b[0m     split_exprs \u001b[38;5;241m=\u001b[39m \u001b[43mre\u001b[49m\u001b[38;5;241;43m.\u001b[39;49m\u001b[43msplit\u001b[49m\u001b[43m(\u001b[49m\u001b[38;5;124;43mr\u001b[39;49m\u001b[38;5;124;43m'\u001b[39;49m\u001b[38;5;124;43m(?<!\u001b[39;49m\u001b[38;5;124;43m\\\u001b[39;49m\u001b[38;5;124;43m([^\u001b[39;49m\u001b[38;5;124;43m\\\u001b[39;49m\u001b[38;5;124;43m)]*)=\u001b[39;49m\u001b[38;5;124;43m'\u001b[39;49m\u001b[43m,\u001b[49m\u001b[43m \u001b[49m\u001b[43mstep\u001b[49m\u001b[43m)\u001b[49m\n\u001b[1;32m     25\u001b[0m     expressions\u001b[38;5;241m.\u001b[39mextend(split_exprs)\n\u001b[1;32m     27\u001b[0m \u001b[38;5;66;03m# Remove any extra spaces and empty strings\u001b[39;00m\n",
      "File \u001b[0;32m/Library/Frameworks/Python.framework/Versions/3.12/lib/python3.12/re/__init__.py:207\u001b[0m, in \u001b[0;36msplit\u001b[0;34m(pattern, string, maxsplit, flags)\u001b[0m\n\u001b[1;32m    199\u001b[0m \u001b[38;5;28;01mdef\u001b[39;00m \u001b[38;5;21msplit\u001b[39m(pattern, string, maxsplit\u001b[38;5;241m=\u001b[39m\u001b[38;5;241m0\u001b[39m, flags\u001b[38;5;241m=\u001b[39m\u001b[38;5;241m0\u001b[39m):\n\u001b[1;32m    200\u001b[0m \u001b[38;5;250m    \u001b[39m\u001b[38;5;124;03m\"\"\"Split the source string by the occurrences of the pattern,\u001b[39;00m\n\u001b[1;32m    201\u001b[0m \u001b[38;5;124;03m    returning a list containing the resulting substrings.  If\u001b[39;00m\n\u001b[1;32m    202\u001b[0m \u001b[38;5;124;03m    capturing parentheses are used in pattern, then the text of all\u001b[39;00m\n\u001b[0;32m   (...)\u001b[0m\n\u001b[1;32m    205\u001b[0m \u001b[38;5;124;03m    and the remainder of the string is returned as the final element\u001b[39;00m\n\u001b[1;32m    206\u001b[0m \u001b[38;5;124;03m    of the list.\"\"\"\u001b[39;00m\n\u001b[0;32m--> 207\u001b[0m     \u001b[38;5;28;01mreturn\u001b[39;00m \u001b[43m_compile\u001b[49m\u001b[43m(\u001b[49m\u001b[43mpattern\u001b[49m\u001b[43m,\u001b[49m\u001b[43m \u001b[49m\u001b[43mflags\u001b[49m\u001b[43m)\u001b[49m\u001b[38;5;241m.\u001b[39msplit(string, maxsplit)\n",
      "File \u001b[0;32m/Library/Frameworks/Python.framework/Versions/3.12/lib/python3.12/re/__init__.py:307\u001b[0m, in \u001b[0;36m_compile\u001b[0;34m(pattern, flags)\u001b[0m\n\u001b[1;32m    301\u001b[0m     \u001b[38;5;28;01mimport\u001b[39;00m \u001b[38;5;21;01mwarnings\u001b[39;00m\n\u001b[1;32m    302\u001b[0m     warnings\u001b[38;5;241m.\u001b[39mwarn(\u001b[38;5;124m\"\u001b[39m\u001b[38;5;124mThe re.TEMPLATE/re.T flag is deprecated \u001b[39m\u001b[38;5;124m\"\u001b[39m\n\u001b[1;32m    303\u001b[0m             \u001b[38;5;124m\"\u001b[39m\u001b[38;5;124mas it is an undocumented flag \u001b[39m\u001b[38;5;124m\"\u001b[39m\n\u001b[1;32m    304\u001b[0m             \u001b[38;5;124m\"\u001b[39m\u001b[38;5;124mwithout an obvious purpose. \u001b[39m\u001b[38;5;124m\"\u001b[39m\n\u001b[1;32m    305\u001b[0m             \u001b[38;5;124m\"\u001b[39m\u001b[38;5;124mDon\u001b[39m\u001b[38;5;124m'\u001b[39m\u001b[38;5;124mt use it.\u001b[39m\u001b[38;5;124m\"\u001b[39m,\n\u001b[1;32m    306\u001b[0m             \u001b[38;5;167;01mDeprecationWarning\u001b[39;00m)\n\u001b[0;32m--> 307\u001b[0m p \u001b[38;5;241m=\u001b[39m \u001b[43m_compiler\u001b[49m\u001b[38;5;241;43m.\u001b[39;49m\u001b[43mcompile\u001b[49m\u001b[43m(\u001b[49m\u001b[43mpattern\u001b[49m\u001b[43m,\u001b[49m\u001b[43m \u001b[49m\u001b[43mflags\u001b[49m\u001b[43m)\u001b[49m\n\u001b[1;32m    308\u001b[0m \u001b[38;5;28;01mif\u001b[39;00m flags \u001b[38;5;241m&\u001b[39m DEBUG:\n\u001b[1;32m    309\u001b[0m     \u001b[38;5;28;01mreturn\u001b[39;00m p\n",
      "File \u001b[0;32m/Library/Frameworks/Python.framework/Versions/3.12/lib/python3.12/re/_compiler.py:749\u001b[0m, in \u001b[0;36mcompile\u001b[0;34m(p, flags)\u001b[0m\n\u001b[1;32m    746\u001b[0m \u001b[38;5;28;01melse\u001b[39;00m:\n\u001b[1;32m    747\u001b[0m     pattern \u001b[38;5;241m=\u001b[39m \u001b[38;5;28;01mNone\u001b[39;00m\n\u001b[0;32m--> 749\u001b[0m code \u001b[38;5;241m=\u001b[39m \u001b[43m_code\u001b[49m\u001b[43m(\u001b[49m\u001b[43mp\u001b[49m\u001b[43m,\u001b[49m\u001b[43m \u001b[49m\u001b[43mflags\u001b[49m\u001b[43m)\u001b[49m\n\u001b[1;32m    751\u001b[0m \u001b[38;5;28;01mif\u001b[39;00m flags \u001b[38;5;241m&\u001b[39m SRE_FLAG_DEBUG:\n\u001b[1;32m    752\u001b[0m     \u001b[38;5;28mprint\u001b[39m()\n",
      "File \u001b[0;32m/Library/Frameworks/Python.framework/Versions/3.12/lib/python3.12/re/_compiler.py:582\u001b[0m, in \u001b[0;36m_code\u001b[0;34m(p, flags)\u001b[0m\n\u001b[1;32m    579\u001b[0m _compile_info(code, p, flags)\n\u001b[1;32m    581\u001b[0m \u001b[38;5;66;03m# compile the pattern\u001b[39;00m\n\u001b[0;32m--> 582\u001b[0m \u001b[43m_compile\u001b[49m\u001b[43m(\u001b[49m\u001b[43mcode\u001b[49m\u001b[43m,\u001b[49m\u001b[43m \u001b[49m\u001b[43mp\u001b[49m\u001b[38;5;241;43m.\u001b[39;49m\u001b[43mdata\u001b[49m\u001b[43m,\u001b[49m\u001b[43m \u001b[49m\u001b[43mflags\u001b[49m\u001b[43m)\u001b[49m\n\u001b[1;32m    584\u001b[0m code\u001b[38;5;241m.\u001b[39mappend(SUCCESS)\n\u001b[1;32m    586\u001b[0m \u001b[38;5;28;01mreturn\u001b[39;00m code\n",
      "File \u001b[0;32m/Library/Frameworks/Python.framework/Versions/3.12/lib/python3.12/re/_compiler.py:155\u001b[0m, in \u001b[0;36m_compile\u001b[0;34m(code, pattern, flags)\u001b[0m\n\u001b[1;32m    153\u001b[0m         \u001b[38;5;28;01mraise\u001b[39;00m error(\u001b[38;5;124m\"\u001b[39m\u001b[38;5;124mlooks too much behind\u001b[39m\u001b[38;5;124m\"\u001b[39m)\n\u001b[1;32m    154\u001b[0m     \u001b[38;5;28;01mif\u001b[39;00m lo \u001b[38;5;241m!=\u001b[39m hi:\n\u001b[0;32m--> 155\u001b[0m         \u001b[38;5;28;01mraise\u001b[39;00m error(\u001b[38;5;124m\"\u001b[39m\u001b[38;5;124mlook-behind requires fixed-width pattern\u001b[39m\u001b[38;5;124m\"\u001b[39m)\n\u001b[1;32m    156\u001b[0m     emit(lo) \u001b[38;5;66;03m# look behind\u001b[39;00m\n\u001b[1;32m    157\u001b[0m _compile(code, av[\u001b[38;5;241m1\u001b[39m], flags)\n",
      "\u001b[0;31merror\u001b[0m: look-behind requires fixed-width pattern"
     ]
    }
   ],
   "source": [
    "import re\n",
    "\n",
    "def extract_expressions(input_string):\n",
    "    \"\"\"\n",
    "    Extracts all expressions between $ or $$ symbols and further splits each step into individual expressions,\n",
    "    without breaking inside parentheses or other nested structures.\n",
    "    \n",
    "    :param input_string: The string containing steps between $ or $$ signs\n",
    "    :return: A list of individual expressions extracted from each step\n",
    "    \"\"\"\n",
    "    # Regular expression to match content between either $...$ or $$...$$\n",
    "    step_pattern = re.compile(r'\\$(.*?)\\$|\\$\\$(.*?)\\$\\$')\n",
    "    \n",
    "    # Find all steps between $ or $$ signs\n",
    "    steps = step_pattern.findall(input_string)\n",
    "    \n",
    "    # Flatten the list of tuples returned by findall (since it gives two groups, one for $ and another for $$)\n",
    "    steps = [item for group in steps for item in group if item]\n",
    "\n",
    "    # Use a more refined splitting strategy that avoids breaking expressions inside parentheses\n",
    "    expressions = []\n",
    "    for step in steps:\n",
    "        # Match expressions separated by '=' while ignoring contents inside parentheses\n",
    "        split_exprs = re.split(r'(?<!\\([^\\)]*)=', step)\n",
    "        expressions.extend(split_exprs)\n",
    "    \n",
    "    # Remove any extra spaces and empty strings\n",
    "    return [expr.strip() for expr in expressions if expr.strip()]\n",
    "\n",
    "# Example usage\n",
    "input_string = \"Here is a step: $6(x+4)=6x+24$ and another one $$x^2 - 4 = 0$$.\"\n",
    "extracted_expressions = extract_expressions(input_string)\n",
    "print(extracted_expressions)\n"
   ]
  }
 ],
 "metadata": {
  "kernelspec": {
   "display_name": ".venv",
   "language": "python",
   "name": "python3"
  },
  "language_info": {
   "codemirror_mode": {
    "name": "ipython",
    "version": 3
   },
   "file_extension": ".py",
   "mimetype": "text/x-python",
   "name": "python",
   "nbconvert_exporter": "python",
   "pygments_lexer": "ipython3",
   "version": "3.12.6"
  }
 },
 "nbformat": 4,
 "nbformat_minor": 2
}
